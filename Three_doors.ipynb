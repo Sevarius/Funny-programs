{
 "cells": [
  {
   "cell_type": "markdown",
   "metadata": {},
   "source": [
    "# 0. Three doors"
   ]
  },
  {
   "cell_type": "code",
   "execution_count": 40,
   "metadata": {},
   "outputs": [],
   "source": [
    "import random as r         #import libraries\n",
    "import numpy as np"
   ]
  },
  {
   "cell_type": "code",
   "execution_count": 44,
   "metadata": {},
   "outputs": [
    {
     "name": "stdout",
     "output_type": "stream",
     "text": [
      "\n",
      "Finall score\n",
      "660 - right\n",
      "340 - wrong\n"
     ]
    }
   ],
   "source": [
    "right = 0       #counters of wrong and right guesses\n",
    "wrong = 0\n",
    "change_your_choise = \"YES\"\n",
    "for i in np.arange(1000):      #number of games\n",
    "    \n",
    "    #print(\"--------------------------\")\n",
    "    \n",
    "    doors = [0,0,0]                #initializes a prize behind one door\n",
    "    doors[r.randint(0,2)] = 1\n",
    "    \n",
    "    firstguess = r.randint(0,2)    #first random choise\n",
    "    \n",
    "    #print(doors, \"- doors\")\n",
    "    #print(firstguess + 1, \"- your first choise\")\n",
    "    \n",
    "    for j in np.arange(3):                           #close one door with no prize behind it\n",
    "        if(j != firstguess and doors[j] == 0):\n",
    "            doors[j] = -1\n",
    "            break\n",
    "    \n",
    "    #print(doors, \"- remove one door\")\n",
    "    \n",
    "    if(change_your_choise == \"YES\"):          #second choise based on your strategy\n",
    "        secondguess = 3 - j - firstguess \n",
    "    else:\n",
    "        secondguess = firstguess\n",
    "    \n",
    "    #print(secondguess + 1, \"- your second choise\")\n",
    "    \n",
    "    if(doors[secondguess] == 1):          #watching if your guess were right or wrong\n",
    "        #print(\"right\")\n",
    "        right += 1\n",
    "    else:\n",
    "        #print(\"wrong\")\n",
    "        wrong += 1\n",
    "\n",
    "print(\"\\nFinall score\")\n",
    "print(right,\"- right\")\n",
    "print(wrong,\"- wrong\")         "
   ]
  },
  {
   "cell_type": "markdown",
   "metadata": {},
   "source": [
    "if you want more information about each game, just remove comments from all \"print\" functions."
   ]
  },
  {
   "cell_type": "code",
   "execution_count": null,
   "metadata": {},
   "outputs": [],
   "source": []
  }
 ],
 "metadata": {
  "kernelspec": {
   "display_name": "Python 3",
   "language": "python",
   "name": "python3"
  },
  "language_info": {
   "codemirror_mode": {
    "name": "ipython",
    "version": 3
   },
   "file_extension": ".py",
   "mimetype": "text/x-python",
   "name": "python",
   "nbconvert_exporter": "python",
   "pygments_lexer": "ipython3",
   "version": "3.6.3"
  }
 },
 "nbformat": 4,
 "nbformat_minor": 2
}
